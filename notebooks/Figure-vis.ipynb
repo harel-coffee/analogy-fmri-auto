{
 "cells": [
  {
   "cell_type": "markdown",
   "metadata": {},
   "source": [
    "# Mapping analysis with BART\n",
    "\n",
    "CD - AB correlate with cosine distance between models\n",
    "\n",
    "ROI method: lasso or something predicting the distances within each ROI (I remember every part of the brain was significant when searchlighting the correlation..."
   ]
  },
  {
   "cell_type": "code",
   "execution_count": 1,
   "metadata": {},
   "outputs": [],
   "source": [
    "%matplotlib inline\n",
    "%load_ext autoreload\n",
    "%autoreload 2\n"
   ]
  },
  {
   "cell_type": "code",
   "execution_count": 2,
   "metadata": {},
   "outputs": [],
   "source": [
    "import json\n",
    "import sys\n",
    "import os\n",
    "import pandas as pd\n",
    "import numpy as np\n",
    "import matplotlib.pyplot as plt\n",
    "\n",
    "if sys.platform == 'darwin':\n",
    "    home = os.path.join(\"/Users\", \"njchiang\", \"GitHub\")\n",
    "    plat = \"osx\"\n",
    "\n",
    "elif sys.platform == \"linux\":\n",
    "    import platform\n",
    "    if platform.linux_distribution()[0] == \"debian\":\n",
    "        home = os.path.join(\"/home\", \"njchiang\", \"data\", \"CloudStation\", \"Grad\",\n",
    "                           \"Research\", \"montilab-ucla\")\n",
    "        plat = \"linux\"\n",
    "    else:\n",
    "        home = os.path.join(\"/u\", \"project\", \"monti\", \"Analysis\", \"Analogy\",\n",
    "                           \"code\")\n",
    "        plat = \"hoff\"\n",
    "else:\n",
    "    home = os.path.join(\"D:\\\\\", \"GitHub\")\n",
    "    plat = \"win\"\n",
    "\n",
    "cfg = os.path.join(home, \"analogy-fmri\", \"config\", \"project.json\")\n",
    "\n",
    "with open(cfg, \"r\") as f:\n",
    "    projectSettings = json.load(f)\n",
    "\n",
    "paths = projectSettings[\"filepaths\"][\"{}Paths\".format(plat)]\n",
    "sys.path.append(paths[\"github\"])\n",
    "sys.path.append(paths[\"code\"])"
   ]
  },
  {
   "cell_type": "code",
   "execution_count": 3,
   "metadata": {},
   "outputs": [
    {
     "name": "stdout",
     "output_type": "stream",
     "text": [
      "Loading JSON config from D:\\GitHub\\analogy-fmri\\config\\analyses.json\n",
      "Loading JSON config from D:\\GitHub\\analogy-fmri\\config\\contrasts.json\n",
      "Loading label file from: D:\\GitHub\\analogy-fmri\\labels\\trialorder_rsa_absorted.csv\n"
     ]
    }
   ],
   "source": [
    "from fmri.analogy_utils import analysisSettings, contrastSettings, order, \\\n",
    "    pu, pa, pv, compile_models, rsa, save_rois, load_rois, load_betas\n"
   ]
  },
  {
   "cell_type": "code",
   "execution_count": 4,
   "metadata": {},
   "outputs": [],
   "source": [
    "from fmri.analogy_rsa import \\\n",
    "downsample_rdms_df_by_factor, create_models, models_to_df, plotmodels,\\\n",
    "roi_rdm, run_rsa_dfs, subject_rdms, plot_results"
   ]
  },
  {
   "cell_type": "code",
   "execution_count": 18,
   "metadata": {},
   "outputs": [
    {
     "name": "stdout",
     "output_type": "stream",
     "text": [
      "Reading file from: D://fmri//Analogy//derivatives//sub-16/vis/betas-LSS-condensed.nii.gz\n",
      "Reading file from: D://fmri//Analogy//derivatives/standard/MNI152_T1_2mm_brain.nii.gz\n"
     ]
    }
   ],
   "source": [
    "im = pu.load_img(\"D://fmri//Analogy//derivatives//sub-16/vis/betas-LSS-condensed.nii.gz\")\n",
    "bg = pu.load_img(\"D://fmri//Analogy//derivatives/standard/MNI152_T1_2mm_brain.nii.gz\")"
   ]
  },
  {
   "cell_type": "code",
   "execution_count": null,
   "metadata": {},
   "outputs": [],
   "source": []
  },
  {
   "cell_type": "code",
   "execution_count": 19,
   "metadata": {},
   "outputs": [
    {
     "name": "stdout",
     "output_type": "stream",
     "text": [
      "Slicing image\n"
     ]
    },
    {
     "data": {
      "text/plain": [
       "(91, 109, 91)"
      ]
     },
     "execution_count": 19,
     "metadata": {},
     "output_type": "execute_result"
    }
   ],
   "source": [
    "im1 = pu.index_img(im, 0)\n",
    "im1.shape"
   ]
  },
  {
   "cell_type": "code",
   "execution_count": 20,
   "metadata": {},
   "outputs": [
    {
     "name": "stdout",
     "output_type": "stream",
     "text": [
      "Slicing image\n"
     ]
    }
   ],
   "source": [
    "im2 = pu.index_img(im, 72)"
   ]
  },
  {
   "cell_type": "code",
   "execution_count": 26,
   "metadata": {},
   "outputs": [],
   "source": [
    "pv.plot_stat_map(stat_img=im1, bg_img=bg, draw_cross=False, black_bg=False, output_file=\"D:\\\\Downloads\\\\statmap.png\")"
   ]
  },
  {
   "cell_type": "code",
   "execution_count": 39,
   "metadata": {},
   "outputs": [],
   "source": [
    "pv.plot_glass_brain(stat_img=im1, draw_cross=False, threshold=200, output_file=\"D:\\\\Downloads\\\\glassmap_ab.svg\")\n",
    "pv.plot_glass_brain(stat_img=im2, draw_cross=False, threshold=200, output_file=\"D:\\\\Downloads\\\\glassmap_cd.svg\")"
   ]
  },
  {
   "cell_type": "code",
   "execution_count": 33,
   "metadata": {},
   "outputs": [
    {
     "data": {
      "text/plain": [
       "40.666438076384786"
      ]
     },
     "execution_count": 33,
     "metadata": {},
     "output_type": "execute_result"
    }
   ],
   "source": [
    "im1.get_data().std()"
   ]
  },
  {
   "cell_type": "code",
   "execution_count": null,
   "metadata": {},
   "outputs": [],
   "source": []
  }
 ],
 "metadata": {
  "kernelspec": {
   "display_name": "research",
   "language": "python",
   "name": "research"
  },
  "language_info": {
   "codemirror_mode": {
    "name": "ipython",
    "version": 3
   },
   "file_extension": ".py",
   "mimetype": "text/x-python",
   "name": "python",
   "nbconvert_exporter": "python",
   "pygments_lexer": "ipython3",
   "version": "3.6.6"
  }
 },
 "nbformat": 4,
 "nbformat_minor": 2
}
