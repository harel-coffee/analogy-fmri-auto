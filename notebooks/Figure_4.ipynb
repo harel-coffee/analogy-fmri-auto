{
 "cells": [
  {
   "cell_type": "markdown",
   "metadata": {
    "deletable": true,
    "editable": true
   },
   "source": [
    "Code to generate figure 4 of Chiang et al., (Analogy)\n"
   ]
  },
  {
   "cell_type": "code",
   "execution_count": 1,
   "metadata": {
    "collapsed": true,
    "deletable": true,
    "editable": true
   },
   "outputs": [],
   "source": [
    "%matplotlib inline\n",
    "%load_ext autoreload\n",
    "%autoreload 2\n"
   ]
  },
  {
   "cell_type": "code",
   "execution_count": 2,
   "metadata": {
    "collapsed": true,
    "deletable": true,
    "editable": true
   },
   "outputs": [],
   "source": [
    "import os\n",
    "os.chdir('..')"
   ]
  },
  {
   "cell_type": "code",
   "execution_count": 3,
   "metadata": {
    "collapsed": true,
    "deletable": true,
    "editable": true
   },
   "outputs": [],
   "source": [
    "import json\n",
    "import sys\n",
    "import os\n",
    "import pandas as pd\n",
    "import numpy as np\n",
    "import matplotlib.pyplot as plt\n"
   ]
  },
  {
   "cell_type": "code",
   "execution_count": 4,
   "metadata": {
    "collapsed": false,
    "deletable": true,
    "editable": true
   },
   "outputs": [
    {
     "name": "stderr",
     "output_type": "stream",
     "text": [
      "/u/home/n/njchiang/.conda/envs/fmri/lib/python3.7/site-packages/sklearn/externals/joblib/__init__.py:15: DeprecationWarning: sklearn.externals.joblib is deprecated in 0.21 and will be removed in 0.23. Please import this functionality directly from joblib, which can be installed with: pip install joblib. If this warning is raised when loading pickled models, you may need to re-serialize those models with scikit-learn 0.21+.\n",
      "  warnings.warn(msg, category=DeprecationWarning)\n"
     ]
    },
    {
     "name": "stdout",
     "output_type": "stream",
     "text": [
      "Loading JSON config from config/analyses.json\n",
      "Loading JSON config from config/contrasts.json\n",
      "Loading label file from: labels/trialorder_rsa_absorted.csv\n"
     ]
    }
   ],
   "source": [
    "from analysis.fmri.analogy_rsa import \\\n",
    "downsample_rdms_df_by_factor, create_models, models_to_df, plotmodels,\\\n",
    "roi_rdm, run_rsa_dfs, subject_rdms, plot_results\n",
    "\n",
    "from analysis.fmri.analogy_utils import \\\n",
    "    projectSettings, analysisSettings, contrastSettings, order, \\\n",
    "    pu, pa, pv, compile_models, rsa, save_rois, load_rois, load_betas\n",
    "\n",
    "paths = projectSettings[\"filepaths\"][\"hoffPaths\"]\n"
   ]
  },
  {
   "cell_type": "code",
   "execution_count": 5,
   "metadata": {
    "collapsed": false,
    "deletable": true,
    "editable": true
   },
   "outputs": [
    {
     "name": "stdout",
     "output_type": "stream",
     "text": [
      "Reading file from: /u/project/monti/Analysis/Analogy/derivatives/sub-16/vis/betas-LSS-condensed.nii.gz\n",
      "Reading file from: /u/project/monti/Analysis/Analogy/derivatives/standard/MNI152_T1_2mm_brain.nii.gz\n"
     ]
    }
   ],
   "source": [
    "im = pu.load_img(os.path.join(paths[\"root\"], \"derivatives/sub-16/vis/betas-LSS-condensed.nii.gz\"))\n",
    "bg = pu.load_img(os.path.join(paths[\"root\"], \"derivatives/standard/MNI152_T1_2mm_brain.nii.gz\"))"
   ]
  },
  {
   "cell_type": "code",
   "execution_count": 6,
   "metadata": {
    "collapsed": false,
    "deletable": true,
    "editable": true
   },
   "outputs": [
    {
     "name": "stdout",
     "output_type": "stream",
     "text": [
      "Slicing image\n"
     ]
    },
    {
     "data": {
      "text/plain": [
       "(91, 109, 91)"
      ]
     },
     "execution_count": 6,
     "metadata": {},
     "output_type": "execute_result"
    }
   ],
   "source": [
    "im1 = pu.index_img(im, 0)\n",
    "im1.shape"
   ]
  },
  {
   "cell_type": "code",
   "execution_count": 7,
   "metadata": {
    "collapsed": false,
    "deletable": true,
    "editable": true
   },
   "outputs": [
    {
     "name": "stdout",
     "output_type": "stream",
     "text": [
      "Slicing image\n"
     ]
    }
   ],
   "source": [
    "im2 = pu.index_img(im, 72)"
   ]
  },
  {
   "cell_type": "code",
   "execution_count": 12,
   "metadata": {
    "collapsed": false,
    "deletable": true,
    "editable": true
   },
   "outputs": [],
   "source": [
    "pv.plot_stat_map(stat_img=im1, bg_img=bg, draw_cross=False, black_bg=False, output_file=\"/u/home/n/njchiang/transfer/statmap.png\")"
   ]
  },
  {
   "cell_type": "code",
   "execution_count": 11,
   "metadata": {
    "collapsed": false,
    "deletable": true,
    "editable": true
   },
   "outputs": [],
   "source": [
    "pv.plot_glass_brain(stat_img=im1, draw_cross=False, threshold=200, output_file=\"/u/home/n/njchiang/transfer/glassmap_ab.svg\")\n",
    "pv.plot_glass_brain(stat_img=im2, draw_cross=False, threshold=200, output_file=\"/u/home/n/njchiang/transfer/glassmap_cd.svg\")"
   ]
  },
  {
   "cell_type": "code",
   "execution_count": null,
   "metadata": {
    "collapsed": false,
    "deletable": true,
    "editable": true
   },
   "outputs": [],
   "source": [
    "im1.get_data().std()"
   ]
  },
  {
   "cell_type": "code",
   "execution_count": null,
   "metadata": {
    "collapsed": false,
    "deletable": true,
    "editable": true
   },
   "outputs": [],
   "source": []
  },
  {
   "cell_type": "code",
   "execution_count": null,
   "metadata": {
    "collapsed": true
   },
   "outputs": [],
   "source": []
  }
 ],
 "metadata": {
  "kernelspec": {
   "display_name": "fmri",
   "language": "python",
   "name": "fmri"
  },
  "language_info": {
   "codemirror_mode": {
    "name": "ipython",
    "version": 3
   },
   "file_extension": ".py",
   "mimetype": "text/x-python",
   "name": "python",
   "nbconvert_exporter": "python",
   "pygments_lexer": "ipython3",
   "version": "3.7.4"
  }
 },
 "nbformat": 4,
 "nbformat_minor": 2
}
