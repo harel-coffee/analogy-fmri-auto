{
 "cells": [
  {
   "cell_type": "markdown",
   "metadata": {
    "collapsed": true
   },
   "source": [
    "# This file sets all of the project-wide parameters"
   ]
  },
  {
   "cell_type": "code",
   "execution_count": 1,
   "metadata": {},
   "outputs": [],
   "source": [
    "import os\n",
    "import simplejson"
   ]
  },
  {
   "cell_type": "code",
   "execution_count": 2,
   "metadata": {},
   "outputs": [],
   "source": [
    "n = 'Analogy'\n",
    "\n",
    "c = ['trialtag', 'abtag', 'cdtag', 'abmainrel', 'cdmainrel', 'absubrel', 'trialtype',\n",
    "             'cdsubrel', 'probecorr', 'probearr', 'ab', 'cd', 'probe', 'match', 'proberesp']\n",
    "\n",
    "s = {#\"sub-00\": [\"run-02\", \"run-03\", \"run-04\", \"run-05\"],\n",
    "             \"sub-001\": [\"run-0-01\", \"run-02\", \"run-03\", \"run-04\", \"run-05\", \"run-06\", \"run-07\", \"run-08\"],\n",
    "             \"sub-002\": [\"run-01\", \"run-02\", \"run-03\", \"run-04\", \"run-05\", \"run-06\", \"run-07\", \"run-08\"],\n",
    "             \"sub-003\": [\"run-01\", \"run-02\", \"run-03\", \"run-04\", \"run-05\", \"run-06\", \"run-07\", \"run-08\"],\n",
    "             \"sub-004\": [\"run-01\", \"run-02\", \"run-03\", \"run-04\", \"run-05\", \"run-06\", \"run-07\", \"run-08\"],\n",
    "             \"sub-005\": [\"run-01\", \"run-02\", \"run-03\", \"run-04\", \"run-05\", \"run-06\", \"run-07\", \"run-08\"],\n",
    "             \"sub-006\": [\"run-01\", \"run-02\", \"run-03\", \"run-04\", \"run-05\", \"run-06\", \"run-07\", \"run-08\"],\n",
    "             \"sub-007\": [\"run-01\", \"run-02\", \"run-03\", \"run-04\", \"run-05\", \"run-06\", \"run-07\", \"run-08\"],\n",
    "             \"sub-008\": [\"run-01\", \"run-02\", \"run-03\", \"run-04\", \"run-05\", \"run-06\", \"run-07\", \"run-08\"],\n",
    "             \"sub-009\": [\"run-01\", \"run-02\", \"run-03\", \"run-04\", \"run-05\", \"run-06\", \"run-07\", \"run-08\"],\n",
    "             \"sub-010\": [\"run-01\", \"run-02\", \"run-03\", \"run-04\", \"run-05\", \"run-06\", \"run-07\", \"run-08\"],\n",
    "             \"sub-011\": [\"run-01\", \"run-02\", \"run-03\", \"run-04\", \"run-05\", \"run-06\", \"run-07\", \"run-08\"],\n",
    "             \"sub-012\": [\"run-01\", \"run-02\", \"run-03\", \"run-04\", \"run-05\", \"run-06\", \"run-07\", \"run-08\"],\n",
    "             \"sub-013\": [\"run-01\", \"run-02\", \"run-03\", \"run-04\", \"run-05\", \"run-06\", \"run-07\", \"run-08\"],\n",
    "             \"sub-014\": [\"run-01\", \"run-02\", \"run-03\", \"run-04\", \"run-05\", \"run-06\", \"run-07\", \"run-08\"],\n",
    "             \"sub-015\": [\"run-01\", \"run-02\", \"run-03\", \"run-04\", \"run-05\", \"run-06\", \"run-07\", \"run-08\"],\n",
    "             \"sub-016\": [\"run-01\", \"run-02\", \"run-03\", \"run-04\", \"run-05\", \"run-06\", \"run-07\", \"run-08\"]}\n",
    "\n",
    "\n",
    "mp = {'root': os.path.join('Volumes', 'JEFF', 'fmri', 'Analogy'),\n",
    "      'cloud': os.path.join('/Users', 'njchiang', 'CloudStation', 'Grad', 'Research', 'Analogy'),\n",
    "      'code': os.path.join('/Users', 'njchiang', 'CloudStation', 'Grad', 'Research', 'montilab-ucla', 'analogy')}\n",
    "\n",
    "wp = {'root': os.path.join('D:\\\\', 'fmri', 'Analogy'),\n",
    "      'cloud': os.path.join('D:\\\\', 'CloudStation', 'Grad', 'Research', 'Analogy'),\n",
    "      'code': os.path.join('D:\\\\', 'CloudStation', 'Grad', 'Research', 'montilab-ucla', 'analogy')}\n",
    "\n",
    "hp = {'root': os.path.join('/u', 'project', 'monti', 'njchiang', 'Analogy'),\n",
    "      'cloud': os.path.join('/u', 'project', 'monti', 'njchiang', 'Analogy', 'analysis'),\n",
    "      'code': os.path.join('/u', 'project', 'monti', 'njchiang', 'Analogy', 'code')}"
   ]
  },
  {
   "cell_type": "code",
   "execution_count": 3,
   "metadata": {},
   "outputs": [],
   "source": [
    "project_attributes = {\n",
    "    'projectname': 'Analogy',\n",
    "    'filepaths': {\n",
    "        'winPaths': wp, \n",
    "        'osxPaths': mp,\n",
    "        'hoffPaths': hp},\n",
    "    'subjects': s,\n",
    "    'contrasts': c}"
   ]
  },
  {
   "cell_type": "code",
   "execution_count": 4,
   "metadata": {},
   "outputs": [],
   "source": [
    "with open(os.path.join('D:\\\\', 'CloudStation', 'Grad', 'Research', 'montilab-ucla', 'analogy', 'config', 'project.json'), 'wt') as f:\n",
    "    simplejson.dump(project_attributes, f, indent=4 * ' ')"
   ]
  },
  {
   "cell_type": "code",
   "execution_count": 5,
   "metadata": {},
   "outputs": [
    {
     "data": {
      "text/plain": [
       "{'contrasts': ['trialtag',\n",
       "  'abtag',\n",
       "  'cdtag',\n",
       "  'abmainrel',\n",
       "  'cdmainrel',\n",
       "  'absubrel',\n",
       "  'trialtype',\n",
       "  'cdsubrel',\n",
       "  'probecorr',\n",
       "  'probearr',\n",
       "  'ab',\n",
       "  'cd',\n",
       "  'probe',\n",
       "  'match',\n",
       "  'proberesp'],\n",
       " 'filepaths': {'hoffPaths': {'cloud': '/u\\\\project\\\\monti\\\\njchiang\\\\Analogy\\\\analysis',\n",
       "   'code': '/u\\\\project\\\\monti\\\\njchiang\\\\Analogy\\\\code',\n",
       "   'root': '/u\\\\project\\\\monti\\\\njchiang\\\\Analogy'},\n",
       "  'osxPaths': {'cloud': '/Users\\\\njchiang\\\\CloudStation\\\\Grad\\\\Research\\\\Analogy',\n",
       "   'code': '/Users\\\\njchiang\\\\CloudStation\\\\Grad\\\\Research\\\\montilab-ucla\\\\analogy',\n",
       "   'root': 'Volumes\\\\JEFF\\\\fmri\\\\Analogy'},\n",
       "  'winPaths': {'cloud': 'D:\\\\CloudStation\\\\Grad\\\\Research\\\\Analogy',\n",
       "   'code': 'D:\\\\CloudStation\\\\Grad\\\\Research\\\\montilab-ucla\\\\analogy',\n",
       "   'root': 'D:\\\\fmri\\\\Analogy'}},\n",
       " 'projectname': 'Analogy',\n",
       " 'subjects': {'sub-001': ['run-0-01',\n",
       "   'run-02',\n",
       "   'run-03',\n",
       "   'run-04',\n",
       "   'run-05',\n",
       "   'run-06',\n",
       "   'run-07',\n",
       "   'run-08'],\n",
       "  'sub-002': ['run-01',\n",
       "   'run-02',\n",
       "   'run-03',\n",
       "   'run-04',\n",
       "   'run-05',\n",
       "   'run-06',\n",
       "   'run-07',\n",
       "   'run-08'],\n",
       "  'sub-003': ['run-01',\n",
       "   'run-02',\n",
       "   'run-03',\n",
       "   'run-04',\n",
       "   'run-05',\n",
       "   'run-06',\n",
       "   'run-07',\n",
       "   'run-08'],\n",
       "  'sub-004': ['run-01',\n",
       "   'run-02',\n",
       "   'run-03',\n",
       "   'run-04',\n",
       "   'run-05',\n",
       "   'run-06',\n",
       "   'run-07',\n",
       "   'run-08'],\n",
       "  'sub-005': ['run-01',\n",
       "   'run-02',\n",
       "   'run-03',\n",
       "   'run-04',\n",
       "   'run-05',\n",
       "   'run-06',\n",
       "   'run-07',\n",
       "   'run-08'],\n",
       "  'sub-006': ['run-01',\n",
       "   'run-02',\n",
       "   'run-03',\n",
       "   'run-04',\n",
       "   'run-05',\n",
       "   'run-06',\n",
       "   'run-07',\n",
       "   'run-08'],\n",
       "  'sub-007': ['run-01',\n",
       "   'run-02',\n",
       "   'run-03',\n",
       "   'run-04',\n",
       "   'run-05',\n",
       "   'run-06',\n",
       "   'run-07',\n",
       "   'run-08'],\n",
       "  'sub-008': ['run-01',\n",
       "   'run-02',\n",
       "   'run-03',\n",
       "   'run-04',\n",
       "   'run-05',\n",
       "   'run-06',\n",
       "   'run-07',\n",
       "   'run-08'],\n",
       "  'sub-009': ['run-01',\n",
       "   'run-02',\n",
       "   'run-03',\n",
       "   'run-04',\n",
       "   'run-05',\n",
       "   'run-06',\n",
       "   'run-07',\n",
       "   'run-08'],\n",
       "  'sub-010': ['run-01',\n",
       "   'run-02',\n",
       "   'run-03',\n",
       "   'run-04',\n",
       "   'run-05',\n",
       "   'run-06',\n",
       "   'run-07',\n",
       "   'run-08'],\n",
       "  'sub-011': ['run-01',\n",
       "   'run-02',\n",
       "   'run-03',\n",
       "   'run-04',\n",
       "   'run-05',\n",
       "   'run-06',\n",
       "   'run-07',\n",
       "   'run-08'],\n",
       "  'sub-012': ['run-01',\n",
       "   'run-02',\n",
       "   'run-03',\n",
       "   'run-04',\n",
       "   'run-05',\n",
       "   'run-06',\n",
       "   'run-07',\n",
       "   'run-08'],\n",
       "  'sub-013': ['run-01',\n",
       "   'run-02',\n",
       "   'run-03',\n",
       "   'run-04',\n",
       "   'run-05',\n",
       "   'run-06',\n",
       "   'run-07',\n",
       "   'run-08'],\n",
       "  'sub-014': ['run-01',\n",
       "   'run-02',\n",
       "   'run-03',\n",
       "   'run-04',\n",
       "   'run-05',\n",
       "   'run-06',\n",
       "   'run-07',\n",
       "   'run-08'],\n",
       "  'sub-015': ['run-01',\n",
       "   'run-02',\n",
       "   'run-03',\n",
       "   'run-04',\n",
       "   'run-05',\n",
       "   'run-06',\n",
       "   'run-07',\n",
       "   'run-08'],\n",
       "  'sub-016': ['run-01',\n",
       "   'run-02',\n",
       "   'run-03',\n",
       "   'run-04',\n",
       "   'run-05',\n",
       "   'run-06',\n",
       "   'run-07',\n",
       "   'run-08']}}"
      ]
     },
     "execution_count": 5,
     "metadata": {},
     "output_type": "execute_result"
    }
   ],
   "source": [
    "with open(os.path.join('D:\\\\', 'CloudStation', 'Grad', 'Research', 'montilab-ucla', 'analogy', 'config', 'project.json'), 'r') as f:\n",
    "    project_test = simplejson.load(f)\n",
    "project_test"
   ]
  },
  {
   "cell_type": "code",
   "execution_count": 7,
   "metadata": {},
   "outputs": [
    {
     "data": {
      "text/plain": [
       "'Analogy'"
      ]
     },
     "execution_count": 7,
     "metadata": {},
     "output_type": "execute_result"
    }
   ],
   "source": [
    "project_test['projectname']"
   ]
  },
  {
   "cell_type": "code",
   "execution_count": 9,
   "metadata": {},
   "outputs": [],
   "source": [
    "searchlight_params = {'searchlight': {\n",
    "    'process_mask_img': None,\n",
    "    'radius': 5, \n",
    "    'n_jobs': -1,\n",
    "    'verbose': 0\n",
    "}\n",
    "}"
   ]
  },
  {
   "cell_type": "code",
   "execution_count": 10,
   "metadata": {},
   "outputs": [],
   "source": [
    "with open(os.path.join('D:\\\\', 'CloudStation', 'Grad', 'Research', 'montilab-ucla', 'analogy', 'config', 'analyses.json'), 'wt') as f:\n",
    "    simplejson.dump(searchlight_params, f, indent=4 * ' ')"
   ]
  },
  {
   "cell_type": "code",
   "execution_count": null,
   "metadata": {},
   "outputs": [],
   "source": []
  }
 ],
 "metadata": {
  "kernelspec": {
   "display_name": "Python 3",
   "language": "python",
   "name": "python3"
  },
  "language_info": {
   "codemirror_mode": {
    "name": "ipython",
    "version": 3
   },
   "file_extension": ".py",
   "mimetype": "text/x-python",
   "name": "python",
   "nbconvert_exporter": "python",
   "pygments_lexer": "ipython3",
   "version": "3.6.4"
  }
 },
 "nbformat": 4,
 "nbformat_minor": 1
}
