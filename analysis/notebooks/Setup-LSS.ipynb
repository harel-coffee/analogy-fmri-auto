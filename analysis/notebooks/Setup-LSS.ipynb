{
 "cells": [
  {
   "cell_type": "markdown",
   "metadata": {},
   "source": [
    "# Set up FEAT for beta extraction\n",
    "\n",
    "This file will:\n",
    "1. Take the run-specific files and split them \n",
    "2. sed replace the template fsf file \n",
    "\n",
    "3. run lss script will run this script to generate the regressors, then aggregate results\n",
    "\n",
    "constraints: run in pure python"
   ]
  },
  {
   "cell_type": "code",
   "execution_count": null,
   "metadata": {},
   "outputs": [],
   "source": [
    "%%bash\n",
    "module load fsl\n",
    "module load python  # whatever the right command is\n",
    "cd /u/project/monti/Analysis/Analogy/derivatives"
   ]
  },
  {
   "cell_type": "code",
   "execution_count": 2,
   "metadata": {},
   "outputs": [],
   "source": [
    "# Set up analysis and paths\n",
    "%matplotlib inline\n",
    "projecttitle = 'Analogy'\n",
    "cd /u/project/\n",
    "import sys, os\n",
    "if sys.platform == 'darwin':\n",
    "    homedir = os.path.join(\"/Users\", \"njchiang\")\n",
    "    sys.path.append(os.path.join(homedir, \"GitHub\", \"task-fmri-utils\"))\n",
    "    sys.path.append(os.path.join(homedir, \"GitHub\", \"tikhonov\"))\n",
    "elif sys.platform == \"linux\":\n",
    "    homedir = os.path.join(\"/home\", \"njchiang\", \"data\")\n",
    "    sys.path.append(os.path.join(homedir, \"GitHub\", \"task-fmri-utils\"))\n",
    "    sys.path.append(os.path.join(homedir, \"GitHub\", \"tikhonov\"))\n",
    "else:\n",
    "    homedir = os.path.join(\"D:\\\\\")\n",
    "    sys.path.append(os.path.join(homedir, \"GitHub\", \"task-fmri-utils\"))\n",
    "    sys.path.append(os.path.join(homedir, \"GitHub\", \"tikhonov\"))"
   ]
  },
  {
   "cell_type": "code",
   "execution_count": 3,
   "metadata": {},
   "outputs": [
    {
     "name": "stderr",
     "output_type": "stream",
     "text": [
      "/home/njchiang/.pyenv/versions/research/lib/python3.6/site-packages/h5py/__init__.py:36: FutureWarning: Conversion of the second argument of issubdtype from `float` to `np.floating` is deprecated. In future, it will be treated as `np.float64 == np.dtype(float).type`.\n",
      "  from ._conv import register_converters as _register_converters\n"
     ]
    }
   ],
   "source": [
    "# imports\n",
    "from fmri_core import analysis as pa\n",
    "from fmri_core import utils as pu\n",
    "from fmri_core import vis as pv"
   ]
  },
  {
   "cell_type": "code",
   "execution_count": 4,
   "metadata": {},
   "outputs": [
    {
     "name": "stdout",
     "output_type": "stream",
     "text": [
      "Loading JSON config from analogy/config/project.json\n",
      "Loading JSON config from analogy/config/analyses.json\n"
     ]
    }
   ],
   "source": [
    "# load configuration\n",
    "os.chdir(os.path.join(homedir, \"CloudStation\", \"Grad\", \"Research\", \"montilab-ucla\"))\n",
    "projectSettings = pu.load_config(os.path.join('analogy', 'config', 'project.json'))\n",
    "analysisSettings = pu.load_config(os.path.join('analogy', 'config', 'analyses.json'))\n",
    "if sys.platform == 'darwin':\n",
    "    paths = projectSettings['filepaths']['osxPaths']\n",
    "elif sys.platform == \"linux\":\n",
    "    paths = projectSettings[\"filepaths\"][\"linuxPaths\"]\n",
    "else:\n",
    "    paths = projectSettings['filepaths']['winPaths']"
   ]
  },
  {
   "cell_type": "code",
   "execution_count": 8,
   "metadata": {
    "scrolled": true
   },
   "outputs": [
    {
     "name": "stdout",
     "output_type": "stream",
     "text": [
      "Loading label file from: /home/njchiang/data/fmri/Analogy/data/sub-01/func/sub-01_task-analogy_run-01_events.tsv\n",
      "Loading label file from: /home/njchiang/data/fmri/Analogy/data/sub-01/func/sub-01_task-analogy_run-02_events.tsv\n",
      "Loading label file from: /home/njchiang/data/fmri/Analogy/data/sub-01/func/sub-01_task-analogy_run-03_events.tsv\n",
      "Loading label file from: /home/njchiang/data/fmri/Analogy/data/sub-01/func/sub-01_task-analogy_run-04_events.tsv\n",
      "Loading label file from: /home/njchiang/data/fmri/Analogy/data/sub-01/func/sub-01_task-analogy_run-05_events.tsv\n",
      "Loading label file from: /home/njchiang/data/fmri/Analogy/data/sub-01/func/sub-01_task-analogy_run-06_events.tsv\n",
      "Loading label file from: /home/njchiang/data/fmri/Analogy/data/sub-01/func/sub-01_task-analogy_run-07_events.tsv\n",
      "Loading label file from: /home/njchiang/data/fmri/Analogy/data/sub-01/func/sub-01_task-analogy_run-08_events.tsv\n",
      "Loading label file from: /home/njchiang/data/fmri/Analogy/data/sub-02/func/sub-02_task-analogy_run-01_events.tsv\n",
      "Loading label file from: /home/njchiang/data/fmri/Analogy/data/sub-02/func/sub-02_task-analogy_run-02_events.tsv\n",
      "Loading label file from: /home/njchiang/data/fmri/Analogy/data/sub-02/func/sub-02_task-analogy_run-03_events.tsv\n",
      "Loading label file from: /home/njchiang/data/fmri/Analogy/data/sub-02/func/sub-02_task-analogy_run-04_events.tsv\n",
      "Loading label file from: /home/njchiang/data/fmri/Analogy/data/sub-02/func/sub-02_task-analogy_run-05_events.tsv\n",
      "Loading label file from: /home/njchiang/data/fmri/Analogy/data/sub-02/func/sub-02_task-analogy_run-06_events.tsv\n",
      "Loading label file from: /home/njchiang/data/fmri/Analogy/data/sub-02/func/sub-02_task-analogy_run-07_events.tsv\n",
      "Loading label file from: /home/njchiang/data/fmri/Analogy/data/sub-02/func/sub-02_task-analogy_run-08_events.tsv\n",
      "Loading label file from: /home/njchiang/data/fmri/Analogy/data/sub-03/func/sub-03_task-analogy_run-01_events.tsv\n",
      "Loading label file from: /home/njchiang/data/fmri/Analogy/data/sub-03/func/sub-03_task-analogy_run-02_events.tsv\n",
      "Loading label file from: /home/njchiang/data/fmri/Analogy/data/sub-03/func/sub-03_task-analogy_run-03_events.tsv\n",
      "Loading label file from: /home/njchiang/data/fmri/Analogy/data/sub-03/func/sub-03_task-analogy_run-04_events.tsv\n",
      "Loading label file from: /home/njchiang/data/fmri/Analogy/data/sub-03/func/sub-03_task-analogy_run-05_events.tsv\n",
      "Loading label file from: /home/njchiang/data/fmri/Analogy/data/sub-03/func/sub-03_task-analogy_run-06_events.tsv\n",
      "Loading label file from: /home/njchiang/data/fmri/Analogy/data/sub-03/func/sub-03_task-analogy_run-07_events.tsv\n",
      "Loading label file from: /home/njchiang/data/fmri/Analogy/data/sub-03/func/sub-03_task-analogy_run-08_events.tsv\n",
      "Loading label file from: /home/njchiang/data/fmri/Analogy/data/sub-04/func/sub-04_task-analogy_run-01_events.tsv\n",
      "Loading label file from: /home/njchiang/data/fmri/Analogy/data/sub-04/func/sub-04_task-analogy_run-02_events.tsv\n",
      "Loading label file from: /home/njchiang/data/fmri/Analogy/data/sub-04/func/sub-04_task-analogy_run-03_events.tsv\n",
      "Loading label file from: /home/njchiang/data/fmri/Analogy/data/sub-04/func/sub-04_task-analogy_run-04_events.tsv\n",
      "Loading label file from: /home/njchiang/data/fmri/Analogy/data/sub-04/func/sub-04_task-analogy_run-05_events.tsv\n",
      "Loading label file from: /home/njchiang/data/fmri/Analogy/data/sub-04/func/sub-04_task-analogy_run-06_events.tsv\n",
      "Loading label file from: /home/njchiang/data/fmri/Analogy/data/sub-04/func/sub-04_task-analogy_run-07_events.tsv\n",
      "Loading label file from: /home/njchiang/data/fmri/Analogy/data/sub-04/func/sub-04_task-analogy_run-08_events.tsv\n",
      "Loading label file from: /home/njchiang/data/fmri/Analogy/data/sub-05/func/sub-05_task-analogy_run-01_events.tsv\n",
      "Loading label file from: /home/njchiang/data/fmri/Analogy/data/sub-05/func/sub-05_task-analogy_run-02_events.tsv\n",
      "Loading label file from: /home/njchiang/data/fmri/Analogy/data/sub-05/func/sub-05_task-analogy_run-03_events.tsv\n",
      "Loading label file from: /home/njchiang/data/fmri/Analogy/data/sub-05/func/sub-05_task-analogy_run-04_events.tsv\n",
      "Loading label file from: /home/njchiang/data/fmri/Analogy/data/sub-05/func/sub-05_task-analogy_run-05_events.tsv\n",
      "Loading label file from: /home/njchiang/data/fmri/Analogy/data/sub-05/func/sub-05_task-analogy_run-06_events.tsv\n",
      "Loading label file from: /home/njchiang/data/fmri/Analogy/data/sub-05/func/sub-05_task-analogy_run-07_events.tsv\n",
      "Loading label file from: /home/njchiang/data/fmri/Analogy/data/sub-05/func/sub-05_task-analogy_run-08_events.tsv\n",
      "Loading label file from: /home/njchiang/data/fmri/Analogy/data/sub-06/func/sub-06_task-analogy_run-01_events.tsv\n",
      "Loading label file from: /home/njchiang/data/fmri/Analogy/data/sub-06/func/sub-06_task-analogy_run-02_events.tsv\n",
      "Loading label file from: /home/njchiang/data/fmri/Analogy/data/sub-06/func/sub-06_task-analogy_run-03_events.tsv\n",
      "Loading label file from: /home/njchiang/data/fmri/Analogy/data/sub-06/func/sub-06_task-analogy_run-04_events.tsv\n",
      "Loading label file from: /home/njchiang/data/fmri/Analogy/data/sub-06/func/sub-06_task-analogy_run-05_events.tsv\n",
      "Loading label file from: /home/njchiang/data/fmri/Analogy/data/sub-06/func/sub-06_task-analogy_run-06_events.tsv\n",
      "Loading label file from: /home/njchiang/data/fmri/Analogy/data/sub-06/func/sub-06_task-analogy_run-07_events.tsv\n",
      "Loading label file from: /home/njchiang/data/fmri/Analogy/data/sub-06/func/sub-06_task-analogy_run-08_events.tsv\n",
      "Loading label file from: /home/njchiang/data/fmri/Analogy/data/sub-07/func/sub-07_task-analogy_run-01_events.tsv\n",
      "Loading label file from: /home/njchiang/data/fmri/Analogy/data/sub-07/func/sub-07_task-analogy_run-02_events.tsv\n",
      "Loading label file from: /home/njchiang/data/fmri/Analogy/data/sub-07/func/sub-07_task-analogy_run-03_events.tsv\n",
      "Loading label file from: /home/njchiang/data/fmri/Analogy/data/sub-07/func/sub-07_task-analogy_run-04_events.tsv\n",
      "Loading label file from: /home/njchiang/data/fmri/Analogy/data/sub-07/func/sub-07_task-analogy_run-05_events.tsv\n",
      "Loading label file from: /home/njchiang/data/fmri/Analogy/data/sub-07/func/sub-07_task-analogy_run-06_events.tsv\n",
      "Loading label file from: /home/njchiang/data/fmri/Analogy/data/sub-07/func/sub-07_task-analogy_run-07_events.tsv\n",
      "Loading label file from: /home/njchiang/data/fmri/Analogy/data/sub-07/func/sub-07_task-analogy_run-08_events.tsv\n",
      "Loading label file from: /home/njchiang/data/fmri/Analogy/data/sub-08/func/sub-08_task-analogy_run-01_events.tsv\n",
      "Loading label file from: /home/njchiang/data/fmri/Analogy/data/sub-08/func/sub-08_task-analogy_run-02_events.tsv\n",
      "Loading label file from: /home/njchiang/data/fmri/Analogy/data/sub-08/func/sub-08_task-analogy_run-03_events.tsv\n",
      "Loading label file from: /home/njchiang/data/fmri/Analogy/data/sub-08/func/sub-08_task-analogy_run-04_events.tsv\n",
      "Loading label file from: /home/njchiang/data/fmri/Analogy/data/sub-08/func/sub-08_task-analogy_run-05_events.tsv\n",
      "Loading label file from: /home/njchiang/data/fmri/Analogy/data/sub-08/func/sub-08_task-analogy_run-06_events.tsv\n",
      "Loading label file from: /home/njchiang/data/fmri/Analogy/data/sub-08/func/sub-08_task-analogy_run-07_events.tsv\n",
      "Loading label file from: /home/njchiang/data/fmri/Analogy/data/sub-08/func/sub-08_task-analogy_run-08_events.tsv\n",
      "Loading label file from: /home/njchiang/data/fmri/Analogy/data/sub-09/func/sub-09_task-analogy_run-01_events.tsv\n",
      "Loading label file from: /home/njchiang/data/fmri/Analogy/data/sub-09/func/sub-09_task-analogy_run-02_events.tsv\n",
      "Loading label file from: /home/njchiang/data/fmri/Analogy/data/sub-09/func/sub-09_task-analogy_run-03_events.tsv\n",
      "Loading label file from: /home/njchiang/data/fmri/Analogy/data/sub-09/func/sub-09_task-analogy_run-04_events.tsv\n",
      "Loading label file from: /home/njchiang/data/fmri/Analogy/data/sub-09/func/sub-09_task-analogy_run-05_events.tsv\n",
      "Loading label file from: /home/njchiang/data/fmri/Analogy/data/sub-09/func/sub-09_task-analogy_run-06_events.tsv\n",
      "Loading label file from: /home/njchiang/data/fmri/Analogy/data/sub-09/func/sub-09_task-analogy_run-07_events.tsv\n",
      "Loading label file from: /home/njchiang/data/fmri/Analogy/data/sub-09/func/sub-09_task-analogy_run-08_events.tsv\n",
      "Loading label file from: /home/njchiang/data/fmri/Analogy/data/sub-10/func/sub-10_task-analogy_run-01_events.tsv\n"
     ]
    },
    {
     "name": "stdout",
     "output_type": "stream",
     "text": [
      "Loading label file from: /home/njchiang/data/fmri/Analogy/data/sub-10/func/sub-10_task-analogy_run-02_events.tsv\n",
      "Loading label file from: /home/njchiang/data/fmri/Analogy/data/sub-10/func/sub-10_task-analogy_run-03_events.tsv\n",
      "Loading label file from: /home/njchiang/data/fmri/Analogy/data/sub-10/func/sub-10_task-analogy_run-04_events.tsv\n",
      "Loading label file from: /home/njchiang/data/fmri/Analogy/data/sub-10/func/sub-10_task-analogy_run-05_events.tsv\n",
      "Loading label file from: /home/njchiang/data/fmri/Analogy/data/sub-10/func/sub-10_task-analogy_run-06_events.tsv\n",
      "Loading label file from: /home/njchiang/data/fmri/Analogy/data/sub-10/func/sub-10_task-analogy_run-07_events.tsv\n",
      "Loading label file from: /home/njchiang/data/fmri/Analogy/data/sub-10/func/sub-10_task-analogy_run-08_events.tsv\n",
      "Loading label file from: /home/njchiang/data/fmri/Analogy/data/sub-11/func/sub-11_task-analogy_run-01_events.tsv\n",
      "Loading label file from: /home/njchiang/data/fmri/Analogy/data/sub-11/func/sub-11_task-analogy_run-02_events.tsv\n",
      "Loading label file from: /home/njchiang/data/fmri/Analogy/data/sub-11/func/sub-11_task-analogy_run-03_events.tsv\n",
      "Loading label file from: /home/njchiang/data/fmri/Analogy/data/sub-11/func/sub-11_task-analogy_run-04_events.tsv\n",
      "Loading label file from: /home/njchiang/data/fmri/Analogy/data/sub-11/func/sub-11_task-analogy_run-05_events.tsv\n",
      "Loading label file from: /home/njchiang/data/fmri/Analogy/data/sub-11/func/sub-11_task-analogy_run-06_events.tsv\n",
      "Loading label file from: /home/njchiang/data/fmri/Analogy/data/sub-11/func/sub-11_task-analogy_run-07_events.tsv\n",
      "Loading label file from: /home/njchiang/data/fmri/Analogy/data/sub-11/func/sub-11_task-analogy_run-08_events.tsv\n",
      "Loading label file from: /home/njchiang/data/fmri/Analogy/data/sub-12/func/sub-12_task-analogy_run-01_events.tsv\n",
      "Loading label file from: /home/njchiang/data/fmri/Analogy/data/sub-12/func/sub-12_task-analogy_run-02_events.tsv\n",
      "Loading label file from: /home/njchiang/data/fmri/Analogy/data/sub-12/func/sub-12_task-analogy_run-03_events.tsv\n",
      "Loading label file from: /home/njchiang/data/fmri/Analogy/data/sub-12/func/sub-12_task-analogy_run-04_events.tsv\n",
      "Loading label file from: /home/njchiang/data/fmri/Analogy/data/sub-12/func/sub-12_task-analogy_run-05_events.tsv\n",
      "Loading label file from: /home/njchiang/data/fmri/Analogy/data/sub-12/func/sub-12_task-analogy_run-06_events.tsv\n",
      "Loading label file from: /home/njchiang/data/fmri/Analogy/data/sub-12/func/sub-12_task-analogy_run-07_events.tsv\n",
      "Loading label file from: /home/njchiang/data/fmri/Analogy/data/sub-12/func/sub-12_task-analogy_run-08_events.tsv\n",
      "Loading label file from: /home/njchiang/data/fmri/Analogy/data/sub-13/func/sub-13_task-analogy_run-01_events.tsv\n",
      "Loading label file from: /home/njchiang/data/fmri/Analogy/data/sub-13/func/sub-13_task-analogy_run-02_events.tsv\n",
      "Loading label file from: /home/njchiang/data/fmri/Analogy/data/sub-13/func/sub-13_task-analogy_run-03_events.tsv\n",
      "Loading label file from: /home/njchiang/data/fmri/Analogy/data/sub-13/func/sub-13_task-analogy_run-04_events.tsv\n",
      "Loading label file from: /home/njchiang/data/fmri/Analogy/data/sub-13/func/sub-13_task-analogy_run-05_events.tsv\n",
      "Loading label file from: /home/njchiang/data/fmri/Analogy/data/sub-13/func/sub-13_task-analogy_run-06_events.tsv\n",
      "Loading label file from: /home/njchiang/data/fmri/Analogy/data/sub-13/func/sub-13_task-analogy_run-07_events.tsv\n",
      "Loading label file from: /home/njchiang/data/fmri/Analogy/data/sub-13/func/sub-13_task-analogy_run-08_events.tsv\n",
      "Loading label file from: /home/njchiang/data/fmri/Analogy/data/sub-14/func/sub-14_task-analogy_run-01_events.tsv\n",
      "Loading label file from: /home/njchiang/data/fmri/Analogy/data/sub-14/func/sub-14_task-analogy_run-02_events.tsv\n",
      "Loading label file from: /home/njchiang/data/fmri/Analogy/data/sub-14/func/sub-14_task-analogy_run-03_events.tsv\n",
      "Loading label file from: /home/njchiang/data/fmri/Analogy/data/sub-14/func/sub-14_task-analogy_run-04_events.tsv\n",
      "Loading label file from: /home/njchiang/data/fmri/Analogy/data/sub-14/func/sub-14_task-analogy_run-05_events.tsv\n",
      "Loading label file from: /home/njchiang/data/fmri/Analogy/data/sub-14/func/sub-14_task-analogy_run-06_events.tsv\n",
      "Loading label file from: /home/njchiang/data/fmri/Analogy/data/sub-14/func/sub-14_task-analogy_run-07_events.tsv\n",
      "Loading label file from: /home/njchiang/data/fmri/Analogy/data/sub-14/func/sub-14_task-analogy_run-08_events.tsv\n",
      "Loading label file from: /home/njchiang/data/fmri/Analogy/data/sub-15/func/sub-15_task-analogy_run-01_events.tsv\n",
      "Loading label file from: /home/njchiang/data/fmri/Analogy/data/sub-15/func/sub-15_task-analogy_run-02_events.tsv\n",
      "Loading label file from: /home/njchiang/data/fmri/Analogy/data/sub-15/func/sub-15_task-analogy_run-03_events.tsv\n",
      "Loading label file from: /home/njchiang/data/fmri/Analogy/data/sub-15/func/sub-15_task-analogy_run-04_events.tsv\n",
      "Loading label file from: /home/njchiang/data/fmri/Analogy/data/sub-15/func/sub-15_task-analogy_run-05_events.tsv\n",
      "Loading label file from: /home/njchiang/data/fmri/Analogy/data/sub-15/func/sub-15_task-analogy_run-06_events.tsv\n",
      "Loading label file from: /home/njchiang/data/fmri/Analogy/data/sub-15/func/sub-15_task-analogy_run-07_events.tsv\n",
      "Loading label file from: /home/njchiang/data/fmri/Analogy/data/sub-15/func/sub-15_task-analogy_run-08_events.tsv\n",
      "Loading label file from: /home/njchiang/data/fmri/Analogy/data/sub-16/func/sub-16_task-analogy_run-01_events.tsv\n",
      "Loading label file from: /home/njchiang/data/fmri/Analogy/data/sub-16/func/sub-16_task-analogy_run-02_events.tsv\n",
      "Loading label file from: /home/njchiang/data/fmri/Analogy/data/sub-16/func/sub-16_task-analogy_run-03_events.tsv\n",
      "Loading label file from: /home/njchiang/data/fmri/Analogy/data/sub-16/func/sub-16_task-analogy_run-04_events.tsv\n",
      "Loading label file from: /home/njchiang/data/fmri/Analogy/data/sub-16/func/sub-16_task-analogy_run-05_events.tsv\n",
      "Loading label file from: /home/njchiang/data/fmri/Analogy/data/sub-16/func/sub-16_task-analogy_run-06_events.tsv\n",
      "Loading label file from: /home/njchiang/data/fmri/Analogy/data/sub-16/func/sub-16_task-analogy_run-07_events.tsv\n",
      "Loading label file from: /home/njchiang/data/fmri/Analogy/data/sub-16/func/sub-16_task-analogy_run-08_events.tsv\n"
     ]
    }
   ],
   "source": [
    "for sub, runs in projectSettings[\"subjects\"].items():\n",
    "    destination_dir = \"/mnt/d/fmri/Analogy/derivatives/{}/misc/regressors/LSA\".format(sub)\n",
    "#     os.mkdir(destination_dir)\n",
    "    os.chdir(destination_dir)\n",
    "\n",
    "    for run in runs:\n",
    "        labels = pu.load_labels(\"/home/njchiang/data/fmri/Analogy\",\n",
    "                               'data', sub, 'func', \n",
    "                               pu.format_bids_name(sub, 'task-analogy', run, \"events.tsv\"), \n",
    "                               sep='\\t')\n",
    "        for i, r in labels.iterrows():\n",
    "#             if r[\"AB\"] == 1:\n",
    "#                 tt = \"AB\"\n",
    "#             elif r[\"CD\"] == 1:\n",
    "#                 tt = \"CD\"\n",
    "#             elif r[\"Probe\"] == 1:\n",
    "#                 tt = \"Probe\"\n",
    "#             fname = \"{}_{}.txt\".format(r[\"TrialTag\"], tt).replace(\":\", \"-\")\n",
    "            fname = \"{}_trial_{}.txt\".format(run, i)\n",
    "            with open(fname, \"w\") as f:\n",
    "                f.write(\"{} {} {}\".format(r[\"onset\"], r[\"duration\"], r[\"intensity\"]))\n",
    "                "
   ]
  },
  {
   "cell_type": "code",
   "execution_count": 6,
   "metadata": {},
   "outputs": [
    {
     "name": "stdout",
     "output_type": "stream",
     "text": [
      "Loading label file from: /home/njchiang/data/fmri/Analogy/data/sub-16/func/sub-16_task-analogy_run-01_events.tsv\n"
     ]
    }
   ],
   "source": [
    "sub=\"sub-16\"\n",
    "labels = pu.load_labels(\"/home/njchiang/data/fmri/Analogy\",\n",
    "                           'data', sub, 'func', \n",
    "                           pu.format_bids_name(sub, 'task-analogy', 'run-01', \"events.tsv\"), \n",
    "                           sep='\\t')"
   ]
  },
  {
   "cell_type": "code",
   "execution_count": 11,
   "metadata": {},
   "outputs": [
    {
     "name": "stdout",
     "output_type": "stream",
     "text": [
      "0\n",
      "1\n",
      "2\n",
      "3\n",
      "4\n",
      "5\n",
      "6\n",
      "7\n",
      "8\n",
      "9\n",
      "10\n",
      "11\n",
      "12\n",
      "13\n",
      "14\n",
      "15\n",
      "16\n",
      "17\n",
      "18\n",
      "19\n",
      "20\n",
      "21\n",
      "22\n",
      "23\n",
      "24\n",
      "25\n",
      "26\n",
      "27\n",
      "28\n",
      "29\n",
      "30\n",
      "31\n",
      "32\n",
      "33\n",
      "34\n",
      "35\n",
      "36\n",
      "37\n",
      "38\n",
      "39\n",
      "40\n",
      "41\n",
      "42\n",
      "43\n",
      "44\n",
      "45\n",
      "46\n",
      "47\n",
      "48\n",
      "49\n",
      "50\n",
      "51\n",
      "52\n",
      "53\n",
      "54\n",
      "55\n",
      "56\n",
      "57\n",
      "58\n",
      "59\n",
      "60\n",
      "61\n",
      "62\n",
      "63\n",
      "64\n",
      "65\n",
      "66\n",
      "67\n",
      "68\n",
      "69\n",
      "70\n",
      "71\n",
      "72\n",
      "73\n",
      "74\n",
      "75\n",
      "76\n",
      "77\n",
      "78\n",
      "79\n",
      "80\n",
      "81\n",
      "82\n",
      "83\n",
      "84\n",
      "85\n",
      "86\n",
      "87\n",
      "88\n",
      "89\n",
      "90\n",
      "91\n",
      "92\n",
      "93\n",
      "94\n",
      "95\n",
      "96\n",
      "97\n",
      "98\n",
      "99\n",
      "100\n",
      "101\n",
      "102\n",
      "103\n",
      "104\n",
      "105\n",
      "106\n",
      "107\n"
     ]
    }
   ],
   "source": [
    "for i, r in labels.iterrows():\n",
    "    print(i)"
   ]
  },
  {
   "cell_type": "code",
   "execution_count": 15,
   "metadata": {},
   "outputs": [],
   "source": [
    "# replace \"-\" with \":\"\n",
    "# replace \"###NAMEX### with the trial\n",
    "\n",
    "def replacetext(template, replacements, output):\n",
    "    # replacements = {'###SUB###': sub, '###RUN###': run, ###SCAN###, scan, ###T1###: t1, ###IN###: input, ###OUTPUT###: output}\n",
    "    # still need vol though...\n",
    "    with open(template, 'r') as infile, open(output, 'w') as outfile:\n",
    "        for line in infile:\n",
    "            for src, target in replacements.items():\n",
    "                line = line.replace(src, target)\n",
    "            outfile.write(line)\n",
    "    return\n",
    "\n",
    "\n",
    "# def LSA_replacements(labels, replacements={}):\n",
    "#     # template: ###NAMEX### ==> ### TrialTag ###\n",
    "#     for i, r in labels.iterrows():\n",
    "#         if r[\"AB\"] == 1:\n",
    "#             tt = \"AB\"\n",
    "#         elif r[\"CD\"] == 1:\n",
    "#             tt = \"CD\"\n",
    "#         elif r[\"Probe\"] == 1:\n",
    "#             tt = \"Probe\"\n",
    "#         replacements[\"###NAME{}###\".format(i+1)] = \"{}_{}\".format(r[\"TrialTag\"], tt).replace(\":\", \"-\")    \n",
    "#     return replacements\n",
    "    \n",
    "    \n",
    "def replace_subject(sub, run):\n",
    "    labels = pu.load_labels(\"/home/njchiang/data/fmri/Analogy\",\n",
    "                               'data', sub, 'func', \n",
    "                               pu.format_bids_name(sub, 'task-analogy', run, \"events.tsv\"), \n",
    "                               sep='\\t')\n",
    "    replacements = {\"###SUB###\": sub, \"###RUN###\": run}\n",
    "    for i in range(len(labels)):\n",
    "        replacements[\"###NAME{}###\".format(i+1)] = \"{}_trial_{}\".format(run, i)\n",
    "#     return LSA_replacements(labels, replacements)\n",
    "    return replacements\n",
    "\n"
   ]
  },
  {
   "cell_type": "code",
   "execution_count": 16,
   "metadata": {
    "scrolled": true
   },
   "outputs": [
    {
     "name": "stdout",
     "output_type": "stream",
     "text": [
      "Loading label file from: /home/njchiang/data/fmri/Analogy/data/sub-01/func/sub-01_task-analogy_run-01_events.tsv\n",
      "Loading label file from: /home/njchiang/data/fmri/Analogy/data/sub-01/func/sub-01_task-analogy_run-02_events.tsv\n",
      "Loading label file from: /home/njchiang/data/fmri/Analogy/data/sub-01/func/sub-01_task-analogy_run-03_events.tsv\n",
      "Loading label file from: /home/njchiang/data/fmri/Analogy/data/sub-01/func/sub-01_task-analogy_run-04_events.tsv\n",
      "Loading label file from: /home/njchiang/data/fmri/Analogy/data/sub-01/func/sub-01_task-analogy_run-05_events.tsv\n",
      "Loading label file from: /home/njchiang/data/fmri/Analogy/data/sub-01/func/sub-01_task-analogy_run-06_events.tsv\n",
      "Loading label file from: /home/njchiang/data/fmri/Analogy/data/sub-01/func/sub-01_task-analogy_run-07_events.tsv\n",
      "Loading label file from: /home/njchiang/data/fmri/Analogy/data/sub-01/func/sub-01_task-analogy_run-08_events.tsv\n",
      "Loading label file from: /home/njchiang/data/fmri/Analogy/data/sub-02/func/sub-02_task-analogy_run-01_events.tsv\n",
      "Loading label file from: /home/njchiang/data/fmri/Analogy/data/sub-02/func/sub-02_task-analogy_run-02_events.tsv\n",
      "Loading label file from: /home/njchiang/data/fmri/Analogy/data/sub-02/func/sub-02_task-analogy_run-03_events.tsv\n",
      "Loading label file from: /home/njchiang/data/fmri/Analogy/data/sub-02/func/sub-02_task-analogy_run-04_events.tsv\n",
      "Loading label file from: /home/njchiang/data/fmri/Analogy/data/sub-02/func/sub-02_task-analogy_run-05_events.tsv\n",
      "Loading label file from: /home/njchiang/data/fmri/Analogy/data/sub-02/func/sub-02_task-analogy_run-06_events.tsv\n",
      "Loading label file from: /home/njchiang/data/fmri/Analogy/data/sub-02/func/sub-02_task-analogy_run-07_events.tsv\n",
      "Loading label file from: /home/njchiang/data/fmri/Analogy/data/sub-02/func/sub-02_task-analogy_run-08_events.tsv\n",
      "Loading label file from: /home/njchiang/data/fmri/Analogy/data/sub-03/func/sub-03_task-analogy_run-01_events.tsv\n",
      "Loading label file from: /home/njchiang/data/fmri/Analogy/data/sub-03/func/sub-03_task-analogy_run-02_events.tsv\n",
      "Loading label file from: /home/njchiang/data/fmri/Analogy/data/sub-03/func/sub-03_task-analogy_run-03_events.tsv\n",
      "Loading label file from: /home/njchiang/data/fmri/Analogy/data/sub-03/func/sub-03_task-analogy_run-04_events.tsv\n",
      "Loading label file from: /home/njchiang/data/fmri/Analogy/data/sub-03/func/sub-03_task-analogy_run-05_events.tsv\n",
      "Loading label file from: /home/njchiang/data/fmri/Analogy/data/sub-03/func/sub-03_task-analogy_run-06_events.tsv\n",
      "Loading label file from: /home/njchiang/data/fmri/Analogy/data/sub-03/func/sub-03_task-analogy_run-07_events.tsv\n",
      "Loading label file from: /home/njchiang/data/fmri/Analogy/data/sub-03/func/sub-03_task-analogy_run-08_events.tsv\n",
      "Loading label file from: /home/njchiang/data/fmri/Analogy/data/sub-04/func/sub-04_task-analogy_run-01_events.tsv\n",
      "Loading label file from: /home/njchiang/data/fmri/Analogy/data/sub-04/func/sub-04_task-analogy_run-02_events.tsv\n",
      "Loading label file from: /home/njchiang/data/fmri/Analogy/data/sub-04/func/sub-04_task-analogy_run-03_events.tsv\n",
      "Loading label file from: /home/njchiang/data/fmri/Analogy/data/sub-04/func/sub-04_task-analogy_run-04_events.tsv\n",
      "Loading label file from: /home/njchiang/data/fmri/Analogy/data/sub-04/func/sub-04_task-analogy_run-05_events.tsv\n",
      "Loading label file from: /home/njchiang/data/fmri/Analogy/data/sub-04/func/sub-04_task-analogy_run-06_events.tsv\n",
      "Loading label file from: /home/njchiang/data/fmri/Analogy/data/sub-04/func/sub-04_task-analogy_run-07_events.tsv\n",
      "Loading label file from: /home/njchiang/data/fmri/Analogy/data/sub-04/func/sub-04_task-analogy_run-08_events.tsv\n",
      "Loading label file from: /home/njchiang/data/fmri/Analogy/data/sub-05/func/sub-05_task-analogy_run-01_events.tsv\n",
      "Loading label file from: /home/njchiang/data/fmri/Analogy/data/sub-05/func/sub-05_task-analogy_run-02_events.tsv\n",
      "Loading label file from: /home/njchiang/data/fmri/Analogy/data/sub-05/func/sub-05_task-analogy_run-03_events.tsv\n",
      "Loading label file from: /home/njchiang/data/fmri/Analogy/data/sub-05/func/sub-05_task-analogy_run-04_events.tsv\n",
      "Loading label file from: /home/njchiang/data/fmri/Analogy/data/sub-05/func/sub-05_task-analogy_run-05_events.tsv\n",
      "Loading label file from: /home/njchiang/data/fmri/Analogy/data/sub-05/func/sub-05_task-analogy_run-06_events.tsv\n",
      "Loading label file from: /home/njchiang/data/fmri/Analogy/data/sub-05/func/sub-05_task-analogy_run-07_events.tsv\n",
      "Loading label file from: /home/njchiang/data/fmri/Analogy/data/sub-05/func/sub-05_task-analogy_run-08_events.tsv\n",
      "Loading label file from: /home/njchiang/data/fmri/Analogy/data/sub-06/func/sub-06_task-analogy_run-01_events.tsv\n",
      "Loading label file from: /home/njchiang/data/fmri/Analogy/data/sub-06/func/sub-06_task-analogy_run-02_events.tsv\n",
      "Loading label file from: /home/njchiang/data/fmri/Analogy/data/sub-06/func/sub-06_task-analogy_run-03_events.tsv\n",
      "Loading label file from: /home/njchiang/data/fmri/Analogy/data/sub-06/func/sub-06_task-analogy_run-04_events.tsv\n",
      "Loading label file from: /home/njchiang/data/fmri/Analogy/data/sub-06/func/sub-06_task-analogy_run-05_events.tsv\n",
      "Loading label file from: /home/njchiang/data/fmri/Analogy/data/sub-06/func/sub-06_task-analogy_run-06_events.tsv\n",
      "Loading label file from: /home/njchiang/data/fmri/Analogy/data/sub-06/func/sub-06_task-analogy_run-07_events.tsv\n",
      "Loading label file from: /home/njchiang/data/fmri/Analogy/data/sub-06/func/sub-06_task-analogy_run-08_events.tsv\n",
      "Loading label file from: /home/njchiang/data/fmri/Analogy/data/sub-07/func/sub-07_task-analogy_run-01_events.tsv\n",
      "Loading label file from: /home/njchiang/data/fmri/Analogy/data/sub-07/func/sub-07_task-analogy_run-02_events.tsv\n",
      "Loading label file from: /home/njchiang/data/fmri/Analogy/data/sub-07/func/sub-07_task-analogy_run-03_events.tsv\n",
      "Loading label file from: /home/njchiang/data/fmri/Analogy/data/sub-07/func/sub-07_task-analogy_run-04_events.tsv\n",
      "Loading label file from: /home/njchiang/data/fmri/Analogy/data/sub-07/func/sub-07_task-analogy_run-05_events.tsv\n",
      "Loading label file from: /home/njchiang/data/fmri/Analogy/data/sub-07/func/sub-07_task-analogy_run-06_events.tsv\n",
      "Loading label file from: /home/njchiang/data/fmri/Analogy/data/sub-07/func/sub-07_task-analogy_run-07_events.tsv\n",
      "Loading label file from: /home/njchiang/data/fmri/Analogy/data/sub-07/func/sub-07_task-analogy_run-08_events.tsv\n",
      "Loading label file from: /home/njchiang/data/fmri/Analogy/data/sub-08/func/sub-08_task-analogy_run-01_events.tsv\n",
      "Loading label file from: /home/njchiang/data/fmri/Analogy/data/sub-08/func/sub-08_task-analogy_run-02_events.tsv\n",
      "Loading label file from: /home/njchiang/data/fmri/Analogy/data/sub-08/func/sub-08_task-analogy_run-03_events.tsv\n",
      "Loading label file from: /home/njchiang/data/fmri/Analogy/data/sub-08/func/sub-08_task-analogy_run-04_events.tsv\n",
      "Loading label file from: /home/njchiang/data/fmri/Analogy/data/sub-08/func/sub-08_task-analogy_run-05_events.tsv\n",
      "Loading label file from: /home/njchiang/data/fmri/Analogy/data/sub-08/func/sub-08_task-analogy_run-06_events.tsv\n",
      "Loading label file from: /home/njchiang/data/fmri/Analogy/data/sub-08/func/sub-08_task-analogy_run-07_events.tsv\n",
      "Loading label file from: /home/njchiang/data/fmri/Analogy/data/sub-08/func/sub-08_task-analogy_run-08_events.tsv\n",
      "Loading label file from: /home/njchiang/data/fmri/Analogy/data/sub-09/func/sub-09_task-analogy_run-01_events.tsv\n",
      "Loading label file from: /home/njchiang/data/fmri/Analogy/data/sub-09/func/sub-09_task-analogy_run-02_events.tsv\n",
      "Loading label file from: /home/njchiang/data/fmri/Analogy/data/sub-09/func/sub-09_task-analogy_run-03_events.tsv\n",
      "Loading label file from: /home/njchiang/data/fmri/Analogy/data/sub-09/func/sub-09_task-analogy_run-04_events.tsv\n",
      "Loading label file from: /home/njchiang/data/fmri/Analogy/data/sub-09/func/sub-09_task-analogy_run-05_events.tsv\n",
      "Loading label file from: /home/njchiang/data/fmri/Analogy/data/sub-09/func/sub-09_task-analogy_run-06_events.tsv\n",
      "Loading label file from: /home/njchiang/data/fmri/Analogy/data/sub-09/func/sub-09_task-analogy_run-07_events.tsv\n",
      "Loading label file from: /home/njchiang/data/fmri/Analogy/data/sub-09/func/sub-09_task-analogy_run-08_events.tsv\n",
      "Loading label file from: /home/njchiang/data/fmri/Analogy/data/sub-10/func/sub-10_task-analogy_run-01_events.tsv\n"
     ]
    },
    {
     "name": "stdout",
     "output_type": "stream",
     "text": [
      "Loading label file from: /home/njchiang/data/fmri/Analogy/data/sub-10/func/sub-10_task-analogy_run-02_events.tsv\n",
      "Loading label file from: /home/njchiang/data/fmri/Analogy/data/sub-10/func/sub-10_task-analogy_run-03_events.tsv\n",
      "Loading label file from: /home/njchiang/data/fmri/Analogy/data/sub-10/func/sub-10_task-analogy_run-04_events.tsv\n",
      "Loading label file from: /home/njchiang/data/fmri/Analogy/data/sub-10/func/sub-10_task-analogy_run-05_events.tsv\n",
      "Loading label file from: /home/njchiang/data/fmri/Analogy/data/sub-10/func/sub-10_task-analogy_run-06_events.tsv\n",
      "Loading label file from: /home/njchiang/data/fmri/Analogy/data/sub-10/func/sub-10_task-analogy_run-07_events.tsv\n",
      "Loading label file from: /home/njchiang/data/fmri/Analogy/data/sub-10/func/sub-10_task-analogy_run-08_events.tsv\n",
      "Loading label file from: /home/njchiang/data/fmri/Analogy/data/sub-11/func/sub-11_task-analogy_run-01_events.tsv\n",
      "Loading label file from: /home/njchiang/data/fmri/Analogy/data/sub-11/func/sub-11_task-analogy_run-02_events.tsv\n",
      "Loading label file from: /home/njchiang/data/fmri/Analogy/data/sub-11/func/sub-11_task-analogy_run-03_events.tsv\n",
      "Loading label file from: /home/njchiang/data/fmri/Analogy/data/sub-11/func/sub-11_task-analogy_run-04_events.tsv\n",
      "Loading label file from: /home/njchiang/data/fmri/Analogy/data/sub-11/func/sub-11_task-analogy_run-05_events.tsv\n",
      "Loading label file from: /home/njchiang/data/fmri/Analogy/data/sub-11/func/sub-11_task-analogy_run-06_events.tsv\n",
      "Loading label file from: /home/njchiang/data/fmri/Analogy/data/sub-11/func/sub-11_task-analogy_run-07_events.tsv\n",
      "Loading label file from: /home/njchiang/data/fmri/Analogy/data/sub-11/func/sub-11_task-analogy_run-08_events.tsv\n",
      "Loading label file from: /home/njchiang/data/fmri/Analogy/data/sub-12/func/sub-12_task-analogy_run-01_events.tsv\n",
      "Loading label file from: /home/njchiang/data/fmri/Analogy/data/sub-12/func/sub-12_task-analogy_run-02_events.tsv\n",
      "Loading label file from: /home/njchiang/data/fmri/Analogy/data/sub-12/func/sub-12_task-analogy_run-03_events.tsv\n",
      "Loading label file from: /home/njchiang/data/fmri/Analogy/data/sub-12/func/sub-12_task-analogy_run-04_events.tsv\n",
      "Loading label file from: /home/njchiang/data/fmri/Analogy/data/sub-12/func/sub-12_task-analogy_run-05_events.tsv\n",
      "Loading label file from: /home/njchiang/data/fmri/Analogy/data/sub-12/func/sub-12_task-analogy_run-06_events.tsv\n",
      "Loading label file from: /home/njchiang/data/fmri/Analogy/data/sub-12/func/sub-12_task-analogy_run-07_events.tsv\n",
      "Loading label file from: /home/njchiang/data/fmri/Analogy/data/sub-12/func/sub-12_task-analogy_run-08_events.tsv\n",
      "Loading label file from: /home/njchiang/data/fmri/Analogy/data/sub-13/func/sub-13_task-analogy_run-01_events.tsv\n",
      "Loading label file from: /home/njchiang/data/fmri/Analogy/data/sub-13/func/sub-13_task-analogy_run-02_events.tsv\n",
      "Loading label file from: /home/njchiang/data/fmri/Analogy/data/sub-13/func/sub-13_task-analogy_run-03_events.tsv\n",
      "Loading label file from: /home/njchiang/data/fmri/Analogy/data/sub-13/func/sub-13_task-analogy_run-04_events.tsv\n",
      "Loading label file from: /home/njchiang/data/fmri/Analogy/data/sub-13/func/sub-13_task-analogy_run-05_events.tsv\n",
      "Loading label file from: /home/njchiang/data/fmri/Analogy/data/sub-13/func/sub-13_task-analogy_run-06_events.tsv\n",
      "Loading label file from: /home/njchiang/data/fmri/Analogy/data/sub-13/func/sub-13_task-analogy_run-07_events.tsv\n",
      "Loading label file from: /home/njchiang/data/fmri/Analogy/data/sub-13/func/sub-13_task-analogy_run-08_events.tsv\n",
      "Loading label file from: /home/njchiang/data/fmri/Analogy/data/sub-14/func/sub-14_task-analogy_run-01_events.tsv\n",
      "Loading label file from: /home/njchiang/data/fmri/Analogy/data/sub-14/func/sub-14_task-analogy_run-02_events.tsv\n",
      "Loading label file from: /home/njchiang/data/fmri/Analogy/data/sub-14/func/sub-14_task-analogy_run-03_events.tsv\n",
      "Loading label file from: /home/njchiang/data/fmri/Analogy/data/sub-14/func/sub-14_task-analogy_run-04_events.tsv\n",
      "Loading label file from: /home/njchiang/data/fmri/Analogy/data/sub-14/func/sub-14_task-analogy_run-05_events.tsv\n",
      "Loading label file from: /home/njchiang/data/fmri/Analogy/data/sub-14/func/sub-14_task-analogy_run-06_events.tsv\n",
      "Loading label file from: /home/njchiang/data/fmri/Analogy/data/sub-14/func/sub-14_task-analogy_run-07_events.tsv\n",
      "Loading label file from: /home/njchiang/data/fmri/Analogy/data/sub-14/func/sub-14_task-analogy_run-08_events.tsv\n",
      "Loading label file from: /home/njchiang/data/fmri/Analogy/data/sub-15/func/sub-15_task-analogy_run-01_events.tsv\n",
      "Loading label file from: /home/njchiang/data/fmri/Analogy/data/sub-15/func/sub-15_task-analogy_run-02_events.tsv\n",
      "Loading label file from: /home/njchiang/data/fmri/Analogy/data/sub-15/func/sub-15_task-analogy_run-03_events.tsv\n",
      "Loading label file from: /home/njchiang/data/fmri/Analogy/data/sub-15/func/sub-15_task-analogy_run-04_events.tsv\n",
      "Loading label file from: /home/njchiang/data/fmri/Analogy/data/sub-15/func/sub-15_task-analogy_run-05_events.tsv\n",
      "Loading label file from: /home/njchiang/data/fmri/Analogy/data/sub-15/func/sub-15_task-analogy_run-06_events.tsv\n",
      "Loading label file from: /home/njchiang/data/fmri/Analogy/data/sub-15/func/sub-15_task-analogy_run-07_events.tsv\n",
      "Loading label file from: /home/njchiang/data/fmri/Analogy/data/sub-15/func/sub-15_task-analogy_run-08_events.tsv\n",
      "Loading label file from: /home/njchiang/data/fmri/Analogy/data/sub-16/func/sub-16_task-analogy_run-01_events.tsv\n",
      "Loading label file from: /home/njchiang/data/fmri/Analogy/data/sub-16/func/sub-16_task-analogy_run-02_events.tsv\n",
      "Loading label file from: /home/njchiang/data/fmri/Analogy/data/sub-16/func/sub-16_task-analogy_run-03_events.tsv\n",
      "Loading label file from: /home/njchiang/data/fmri/Analogy/data/sub-16/func/sub-16_task-analogy_run-04_events.tsv\n",
      "Loading label file from: /home/njchiang/data/fmri/Analogy/data/sub-16/func/sub-16_task-analogy_run-05_events.tsv\n",
      "Loading label file from: /home/njchiang/data/fmri/Analogy/data/sub-16/func/sub-16_task-analogy_run-06_events.tsv\n",
      "Loading label file from: /home/njchiang/data/fmri/Analogy/data/sub-16/func/sub-16_task-analogy_run-07_events.tsv\n",
      "Loading label file from: /home/njchiang/data/fmri/Analogy/data/sub-16/func/sub-16_task-analogy_run-08_events.tsv\n"
     ]
    }
   ],
   "source": [
    "template = \"/home/njchiang/data/fmri/Analogy/derivatives/standard/templates/LSA-template.fsf\"\n",
    "for sub, runs in projectSettings[\"subjects\"].items():\n",
    "    for run in runs:\n",
    "        replacements = replace_subject(sub, run)\n",
    "        outfile = \"/home/njchiang/data/fmri/Analogy/derivatives/{}/betas/{}\".format(sub, pu.format_bids_name(sub, 'task-analogy', run, \"LSA.fsf\")) \n",
    "        replacetext(template, replacements, outfile)"
   ]
  },
  {
   "cell_type": "code",
   "execution_count": 18,
   "metadata": {},
   "outputs": [],
   "source": [
    "%%bash\n",
    "# adjust vols\n",
    "cd /home/njchiang/data/fmri/Analogy/derivatives/\n",
    "for s in 01 02 03 04 05 06 07 08 09 10 11 12 13 14 15 16\n",
    "do\n",
    "  for r in 01 02 03 04 05 06 07 08\n",
    "  do\n",
    "    vol=`fslval ../data/sub-${s}/func/sub-${s}_task-analogy_run-${r}_bold.nii.gz dim4`\n",
    "    sed -i -e \"s/###VOL###/${vol}/g\" sub-${s}/betas/sub-${s}_task-analogy_run-${r}_LSA.fsf\n",
    "  done\n",
    "done"
   ]
  },
  {
   "cell_type": "code",
   "execution_count": 12,
   "metadata": {},
   "outputs": [
    {
     "name": "stdout",
     "output_type": "stream",
     "text": [
      "sub-01\n",
      "sub-02\n",
      "sub-03\n",
      "sub-04\n",
      "sub-05\n",
      "sub-06\n",
      "sub-07\n",
      "sub-08\n",
      "sub-09\n",
      "sub-10\n",
      "sub-11\n",
      "sub-12\n",
      "sub-13\n",
      "sub-14\n",
      "sub-15\n",
      "sub-16\n"
     ]
    }
   ],
   "source": [
    "%%bash\n",
    "# upload files\n",
    "cd /home/njchiang/data/fmri/Analogy/derivatives/\n",
    "for s in 01 02 03 04 05 06 07 08 09 10 11 12 13 14 15 16\n",
    "do\n",
    "  echo sub-${s}\n",
    "  scp sub-${s}/betas/*.fsf njchiang@hoffman2.idre.ucla.edu:/u/project/monti/Analysis/Analogy/derivatives/sub-${s}/betas/\n",
    "done"
   ]
  },
  {
   "cell_type": "code",
   "execution_count": 13,
   "metadata": {},
   "outputs": [
    {
     "name": "stdout",
     "output_type": "stream",
     "text": [
      "Process is terminated.\n"
     ]
    }
   ],
   "source": [
    "%%bash\n",
    "# upload files\n",
    "cd /home/njchiang/data/fmri/Analogy/derivatives/\n",
    "for s in 01 02 03 04 05 \n",
    "do\n",
    "  echo sub-${s}\n",
    "  rsync -av sub-${s}/betas njchiang@dtn2.hoffman2.idre.ucla.edu:/u/project/monti/Analysis/Analogy/derivatives/sub-${s}\n",
    "  rsync -av sub-${s}/misc/regressors/LSA njchiang@dtn2.hoffman2.idre.ucla.edu:/u/project/monti/Analysis/Analogy/derivatives/sub-${s}/misc/regressors\n",
    "done\n",
    "\n"
   ]
  },
  {
   "cell_type": "code",
   "execution_count": 19,
   "metadata": {},
   "outputs": [
    {
     "name": "stdout",
     "output_type": "stream",
     "text": [
      "sub-01\n",
      "sub-02\n",
      "sub-03\n",
      "sub-04\n",
      "sub-05\n",
      "sub-06\n",
      "sub-07\n",
      "sub-08\n",
      "sub-09\n",
      "sub-10\n",
      "sub-11\n",
      "sub-12\n",
      "sub-13\n",
      "sub-14\n",
      "sub-15\n",
      "sub-16\n"
     ]
    },
    {
     "name": "stderr",
     "output_type": "stream",
     "text": [
      "ssh: connect to host hoffman2.idre.ucla.edu port 22: Resource temporarily unavailable\r\n",
      "lost connection\n"
     ]
    }
   ],
   "source": [
    "%%bash\n",
    "cd /home/njchiang/data/fmri/Analogy/derivatives/\n",
    "\n",
    "for s in 01 02 03 04 05 06 07 08 09 10 11 12 13 14 15 16\n",
    "do\n",
    "  echo sub-${s}\n",
    "  scp sub-${s}/betas/*.fsf njchiang@hoffman2.idre.ucla.edu:/u/project/monti/Analysis/Analogy/derivatives/sub-${s}/betas\n",
    "  scp -r sub-${s}/misc/regressors/LSA njchiang@hoffman2.idre.ucla.edu:/u/project/monti/Analysis/Analogy/derivatives/sub-${s}/misc/regressors\n",
    "done"
   ]
  },
  {
   "cell_type": "markdown",
   "metadata": {},
   "source": [
    "# SCRATCH"
   ]
  },
  {
   "cell_type": "code",
   "execution_count": 8,
   "metadata": {},
   "outputs": [],
   "source": [
    "os.mkdir(\"/home/njchiang/data/fmri/Analogy/derivatives/{}/misc/LSA\".format(sub))"
   ]
  },
  {
   "cell_type": "code",
   "execution_count": 21,
   "metadata": {},
   "outputs": [
    {
     "data": {
      "text/plain": [
       "65280"
      ]
     },
     "execution_count": 21,
     "metadata": {},
     "output_type": "execute_result"
    }
   ],
   "source": [
    "os.system(\"flirt --version\")"
   ]
  },
  {
   "cell_type": "code",
   "execution_count": 6,
   "metadata": {},
   "outputs": [
    {
     "ename": "FileNotFoundError",
     "evalue": "[Errno 2] No such file or directory: '/home/njchiang/data/fmri/Analogy/derivatives/sub-15/misc/regressors/LSA/work:earn::stairs:ladder_AB.txt'",
     "output_type": "error",
     "traceback": [
      "\u001b[0;31m---------------------------------------------------------------------------\u001b[0m",
      "\u001b[0;31mFileNotFoundError\u001b[0m                         Traceback (most recent call last)",
      "\u001b[0;32m<ipython-input-6-c57103c33f00>\u001b[0m in \u001b[0;36m<module>\u001b[0;34m()\u001b[0m\n\u001b[1;32m      9\u001b[0m \u001b[0;31m#     destination_dir = \"/tmp\"\u001b[0m\u001b[0;34m\u001b[0m\u001b[0;34m\u001b[0m\u001b[0m\n\u001b[1;32m     10\u001b[0m     \u001b[0mdestination_dir\u001b[0m \u001b[0;34m=\u001b[0m \u001b[0;34m\"/home/njchiang/data/fmri/Analogy/derivatives/{}/misc/regressors/LSA\"\u001b[0m\u001b[0;34m.\u001b[0m\u001b[0mformat\u001b[0m\u001b[0;34m(\u001b[0m\u001b[0msub\u001b[0m\u001b[0;34m)\u001b[0m\u001b[0;34m\u001b[0m\u001b[0m\n\u001b[0;32m---> 11\u001b[0;31m     \u001b[0;32mwith\u001b[0m \u001b[0mopen\u001b[0m\u001b[0;34m(\u001b[0m\u001b[0mos\u001b[0m\u001b[0;34m.\u001b[0m\u001b[0mpath\u001b[0m\u001b[0;34m.\u001b[0m\u001b[0mjoin\u001b[0m\u001b[0;34m(\u001b[0m\u001b[0mdestination_dir\u001b[0m\u001b[0;34m,\u001b[0m \u001b[0mfname\u001b[0m\u001b[0;34m)\u001b[0m\u001b[0;34m,\u001b[0m \u001b[0;34m\"w\"\u001b[0m\u001b[0;34m)\u001b[0m \u001b[0;32mas\u001b[0m \u001b[0mf\u001b[0m\u001b[0;34m:\u001b[0m\u001b[0;34m\u001b[0m\u001b[0m\n\u001b[0m\u001b[1;32m     12\u001b[0m         \u001b[0mf\u001b[0m\u001b[0;34m.\u001b[0m\u001b[0mwrite\u001b[0m\u001b[0;34m(\u001b[0m\u001b[0;34m\"{} {} {}\"\u001b[0m\u001b[0;34m.\u001b[0m\u001b[0mformat\u001b[0m\u001b[0;34m(\u001b[0m\u001b[0mr\u001b[0m\u001b[0;34m[\u001b[0m\u001b[0;34m\"onset\"\u001b[0m\u001b[0;34m]\u001b[0m\u001b[0;34m,\u001b[0m \u001b[0mr\u001b[0m\u001b[0;34m[\u001b[0m\u001b[0;34m\"duration\"\u001b[0m\u001b[0;34m]\u001b[0m\u001b[0;34m,\u001b[0m \u001b[0mr\u001b[0m\u001b[0;34m[\u001b[0m\u001b[0;34m\"intensity\"\u001b[0m\u001b[0;34m]\u001b[0m\u001b[0;34m)\u001b[0m\u001b[0;34m)\u001b[0m\u001b[0;34m\u001b[0m\u001b[0m\n",
      "\u001b[0;31mFileNotFoundError\u001b[0m: [Errno 2] No such file or directory: '/home/njchiang/data/fmri/Analogy/derivatives/sub-15/misc/regressors/LSA/work:earn::stairs:ladder_AB.txt'"
     ]
    }
   ],
   "source": [
    "for i, r in labels.iterrows():\n",
    "    if r[\"AB\"] == 1:\n",
    "        tt = \"AB\"\n",
    "    elif r[\"CD\"] == 1:\n",
    "        tt = \"CD\"\n",
    "    elif r[\"Probe\"] == 1:\n",
    "        tt = \"Probe\"\n",
    "    fname = \"{}_{}.txt\".format(r[\"TrialTag\"], tt)\n",
    "#     destination_dir = \"/tmp\"\n",
    "    destination_dir = \"/home/njchiang/data/fmri/Analogy/derivatives/{}/misc/regressors/LSA\".format(sub)\n",
    "    with open(os.path.join(destination_dir, fname), \"w\") as f:\n",
    "        f.write(\"{} {} {}\".format(r[\"onset\"], r[\"duration\"], r[\"intensity\"]))"
   ]
  },
  {
   "cell_type": "code",
   "execution_count": 50,
   "metadata": {},
   "outputs": [
    {
     "data": {
      "text/plain": [
       "array(['work:earn::stairs:ladder', 'heater:warmth::climb:descend',\n",
       "       'pretty:beautiful::teach:instruct',\n",
       "       'discount:price::heat:temperature', 'hill:mountain::danger:flee',\n",
       "       'paper:parchment::chair:sofa', 'black:white::terror:fear',\n",
       "       'trim:shorten::study:learn', 'thirsty:drink::anger:yell',\n",
       "       'east:west::car:auto', 'accept:reject::lower:volume',\n",
       "       'tiredness:rest::dark:light', 'dim:light::joke:laughter',\n",
       "       'wash:clean::cook:eat', 'enthusiastic:lazy::witty:dumb',\n",
       "       'rise:sink::shovel:spoon', 'stimulus:response::workout:sweat',\n",
       "       'drink:hydrate::house:home', 'run:sprint::under:over',\n",
       "       'powerful:meek::rake:fork', 'pencil:pen::fence:hedge',\n",
       "       'low:up::funny:serious', 'sword:knife::accident:damage',\n",
       "       'day:evening::speak:express', 'nervousness:sweat::coldness:shiver',\n",
       "       'darken:color::soften:voice', 'good:bad::tall:short',\n",
       "       'loss:grief::fire:burns', 'warm:cool::hot:cold',\n",
       "       'in:out::left:right', 'dirtiness:bathe::front:back',\n",
       "       'boat:ship::big:large', 'cute:adorable::burnish:shine',\n",
       "       'rise:tide::dirty:clean', 'disease:sickness::flood:water',\n",
       "       'up:down::high:low'], dtype=object)"
      ]
     },
     "execution_count": 50,
     "metadata": {},
     "output_type": "execute_result"
    }
   ],
   "source": [
    "labels.TrialTag.unique()"
   ]
  },
  {
   "cell_type": "code",
   "execution_count": 56,
   "metadata": {},
   "outputs": [
    {
     "name": "stdout",
     "output_type": "stream",
     "text": [
      "analogy\n",
      "biomotion\n",
      "hoffman-utils\n",
      "lmvpa\n",
      "misc\n",
      "music\n",
      "registration\n",
      "shapes\n",
      "test_flirt.mat\n",
      "tikhonov-test\n"
     ]
    }
   ],
   "source": [
    "%%bash\n",
    "ls"
   ]
  },
  {
   "cell_type": "markdown",
   "metadata": {},
   "source": [
    "# postprocess:\n",
    "1. map each example_func to BOLD_template\n",
    "2. concatenate copes\n",
    "3. register copes to BOLD_template\n",
    "4. profit!"
   ]
  },
  {
   "cell_type": "code",
   "execution_count": null,
   "metadata": {},
   "outputs": [],
   "source": []
  }
 ],
 "metadata": {
  "kernelspec": {
   "display_name": "research",
   "language": "python",
   "name": "research"
  },
  "language_info": {
   "codemirror_mode": {
    "name": "ipython",
    "version": 3
   },
   "file_extension": ".py",
   "mimetype": "text/x-python",
   "name": "python",
   "nbconvert_exporter": "python",
   "pygments_lexer": "ipython3",
   "version": "3.6.4"
  }
 },
 "nbformat": 4,
 "nbformat_minor": 2
}
